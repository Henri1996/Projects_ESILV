{
 "cells": [
  {
   "cell_type": "code",
   "execution_count": 2,
   "metadata": {},
   "outputs": [],
   "source": [
    "import os\n",
    "import sys\n",
    "import random as rd\n",
    "import math\n",
    "import re\n",
    "import time\n",
    "import numpy as np\n",
    "import cv2\n",
    "import matplotlib\n",
    "import matplotlib.pyplot as plt"
   ]
  },
  {
   "cell_type": "code",
   "execution_count": 49,
   "metadata": {},
   "outputs": [],
   "source": [
    "X = []\n",
    "y = []\n",
    "couleur = [50,200]\n",
    "for i in range(500):\n",
    "    n = rd.randint(0,1)\n",
    "    bg_color = np.array([couleur[n],couleur[n],couleur[n]]).reshape([1, 1, 3])\n",
    "    image = np.ones([128, 128, 3], dtype=np.uint8)\n",
    "    image = image * bg_color.astype(np.uint8)\n",
    "    X.append(image)\n",
    "    y.append(n)\n",
    "    "
   ]
  },
  {
   "cell_type": "code",
   "execution_count": 171,
   "metadata": {},
   "outputs": [],
   "source": [
    "X = []\n",
    "y = []\n",
    "size_image = 128\n",
    "couleur = [40,130]\n",
    "for i in range(500):\n",
    "    n = rd.randint(0,1)\n",
    "    c = [couleur[n],couleur[n],couleur[n]]\n",
    "    bg_color = np.array([240,240,240]).reshape([1, 1, 3])\n",
    "    image = np.ones([size_image, size_image, 3], dtype=np.uint8)\n",
    "    image = image * bg_color.astype(np.uint8)\n",
    "    cv2.circle(image, (int(size_image/2), int(size_image/2)), int(size_image/4), c, -1)\n",
    "    X.append(image)\n",
    "    y.append(n)"
   ]
  },
  {
   "cell_type": "code",
   "execution_count": 11,
   "metadata": {},
   "outputs": [
    {
     "ename": "NameError",
     "evalue": "name 'x' is not defined",
     "output_type": "error",
     "traceback": [
      "\u001b[1;31m---------------------------------------------------------------------------\u001b[0m",
      "\u001b[1;31mNameError\u001b[0m                                 Traceback (most recent call last)",
      "\u001b[1;32m<ipython-input-11-5fb87cd9bcd6>\u001b[0m in \u001b[0;36m<module>\u001b[1;34m\u001b[0m\n\u001b[1;32m----> 1\u001b[1;33m \u001b[0mcv2\u001b[0m\u001b[1;33m.\u001b[0m\u001b[0mcircle\u001b[0m\u001b[1;33m(\u001b[0m\u001b[0mimage\u001b[0m\u001b[1;33m,\u001b[0m \u001b[1;33m(\u001b[0m\u001b[0mx\u001b[0m\u001b[1;33m,\u001b[0m \u001b[0my\u001b[0m\u001b[1;33m)\u001b[0m\u001b[1;33m,\u001b[0m \u001b[0ms\u001b[0m\u001b[1;33m,\u001b[0m \u001b[0mcolor\u001b[0m\u001b[1;33m,\u001b[0m \u001b[1;33m-\u001b[0m\u001b[1;36m1\u001b[0m\u001b[1;33m)\u001b[0m\u001b[1;33m\u001b[0m\u001b[1;33m\u001b[0m\u001b[0m\n\u001b[0m",
      "\u001b[1;31mNameError\u001b[0m: name 'x' is not defined"
     ]
    }
   ],
   "source": [
    "cv2.circle(image, (x, y), s, color, -1)"
   ]
  },
  {
   "cell_type": "code",
   "execution_count": 172,
   "metadata": {},
   "outputs": [
    {
     "data": {
      "text/plain": [
       "<matplotlib.image.AxesImage at 0x23188e75748>"
      ]
     },
     "execution_count": 172,
     "metadata": {},
     "output_type": "execute_result"
    },
    {
     "data": {
      "image/png": "[encoded data removed]",
      "text/plain": [
       "<Figure size 432x288 with 4 Axes>"
      ]
     },
     "metadata": {
      "needs_background": "light"
     },
     "output_type": "display_data"
    }
   ],
   "source": [
    "plt.subplot(3,2,1)\n",
    "plt.imshow(X[3])\n",
    "plt.subplot(3,2,2)\n",
    "plt.imshow(X[4])\n",
    "plt.subplot(3,2,3)\n",
    "plt.imshow(X[5])\n",
    "plt.subplot(3,2,4)\n",
    "plt.imshow(X[6])\n",
    "\n",
    "    "
   ]
  },
  {
   "cell_type": "code",
   "execution_count": 20,
   "metadata": {},
   "outputs": [
    {
     "data": {
      "text/plain": [
       "(500, 500)"
      ]
     },
     "execution_count": 20,
     "metadata": {},
     "output_type": "execute_result"
    }
   ],
   "source": [
    "len(X) , len(y)"
   ]
  },
  {
   "cell_type": "code",
   "execution_count": 21,
   "metadata": {},
   "outputs": [],
   "source": [
    "from sklearn.model_selection import train_test_split"
   ]
  },
  {
   "cell_type": "code",
   "execution_count": 173,
   "metadata": {},
   "outputs": [],
   "source": [
    "X_train, X_test, y_train, y_test = train_test_split(X,y)"
   ]
  },
  {
   "cell_type": "code",
   "execution_count": 174,
   "metadata": {},
   "outputs": [
    {
     "data": {
      "text/plain": [
       "(375, 125, 375, 125)"
      ]
     },
     "execution_count": 174,
     "metadata": {},
     "output_type": "execute_result"
    }
   ],
   "source": [
    "len(X_train), len(X_test),len(y_train), len(y_test)"
   ]
  },
  {
   "cell_type": "code",
   "execution_count": 175,
   "metadata": {},
   "outputs": [],
   "source": [
    "from sklearn.model_selection import train_test_split\n",
    "import numpy as np\n",
    "from keras.utils import to_categorical\n",
    "\n",
    "X_train=np.asarray(X_train) / 255\n",
    "X_test=np.asarray(X_test) /255\n",
    "y_train=np.asarray(y_train)\n",
    "y_test=np.asarray(y_test)\n"
   ]
  },
  {
   "cell_type": "code",
   "execution_count": 176,
   "metadata": {},
   "outputs": [],
   "source": [
    "y_train = to_categorical(y_train)\n",
    "y_test = to_categorical(y_test)"
   ]
  },
  {
   "cell_type": "code",
   "execution_count": 177,
   "metadata": {},
   "outputs": [
    {
     "name": "stdout",
     "output_type": "stream",
     "text": [
      "DIMENSION X TRAIN (375, 128, 128, 3)\n",
      "DIMENSION X TEST (125, 128, 128, 3)\n",
      "DIMENSION Y TRAIN (375, 2)\n",
      "DIMENSION Y TEST (125, 2)\n"
     ]
    }
   ],
   "source": [
    "#trainx2.shape , trainy2.shape , testx2.shape , testy2.shape\n",
    "print('DIMENSION X TRAIN ' + str(X_train.shape))\n",
    "print('DIMENSION X TEST ' + str(X_test.shape))\n",
    "print('DIMENSION Y TRAIN ' + str(y_train.shape))\n",
    "print('DIMENSION Y TEST ' + str(y_test.shape))"
   ]
  },
  {
   "cell_type": "code",
   "execution_count": 178,
   "metadata": {},
   "outputs": [
    {
     "name": "stdout",
     "output_type": "stream",
     "text": [
      "1.15.0\n"
     ]
    }
   ],
   "source": [
    "import tensorflow as tf\n",
    "from tensorflow import keras\n",
    "print(tf.__version__)"
   ]
  },
  {
   "cell_type": "code",
   "execution_count": 179,
   "metadata": {},
   "outputs": [
    {
     "name": "stdout",
     "output_type": "stream",
     "text": [
      "Model: \"sequential_13\"\n",
      "_________________________________________________________________\n",
      "Layer (type)                 Output Shape              Param #   \n",
      "=================================================================\n",
      "conv2d_26 (Conv2D)           (None, 126, 126, 8)       224       \n",
      "_________________________________________________________________\n",
      "max_pooling2d_26 (MaxPooling (None, 31, 31, 8)         0         \n",
      "_________________________________________________________________\n",
      "conv2d_27 (Conv2D)           (None, 29, 29, 16)        1168      \n",
      "_________________________________________________________________\n",
      "max_pooling2d_27 (MaxPooling (None, 7, 7, 16)          0         \n",
      "_________________________________________________________________\n",
      "flatten_13 (Flatten)         (None, 784)               0         \n",
      "_________________________________________________________________\n",
      "dense_26 (Dense)             (None, 128)               100480    \n",
      "_________________________________________________________________\n",
      "dense_27 (Dense)             (None, 2)                 258       \n",
      "=================================================================\n",
      "Total params: 102,130\n",
      "Trainable params: 102,130\n",
      "Non-trainable params: 0\n",
      "_________________________________________________________________\n"
     ]
    }
   ],
   "source": [
    "import keras\n",
    "from keras.models import Sequential\n",
    "from keras.layers import Dense, Dropout, Conv2D, MaxPooling2D, BatchNormalization, Flatten\n",
    "\n",
    "#construction d'un RNN convolutif\n",
    "model1 = tf.keras.Sequential([\n",
    "    tf.keras.layers.Conv2D(8,(3,3),activation='relu',input_shape=(size_image,size_image,3)),\n",
    "    tf.keras.layers.MaxPooling2D(pool_size=(4,4)),\n",
    "    tf.keras.layers.Conv2D(16,(3,3),activation='relu'),\n",
    "    tf.keras.layers.MaxPooling2D(pool_size=(4,4)),\n",
    "    tf.keras.layers.Flatten(),\n",
    "    tf.keras.layers.Dense(128, activation='relu'),\n",
    "    tf.keras.layers.Dense(2, activation='softmax')\n",
    "])\n",
    "model1.summary()"
   ]
  },
  {
   "cell_type": "code",
   "execution_count": 183,
   "metadata": {
    "scrolled": false
   },
   "outputs": [
    {
     "name": "stdout",
     "output_type": "stream",
     "text": [
      "Model: \"sequential_15\"\n",
      "_________________________________________________________________\n",
      "Layer (type)                 Output Shape              Param #   \n",
      "=================================================================\n",
      "conv2d_30 (Conv2D)           (None, 126, 126, 32)      896       \n",
      "_________________________________________________________________\n",
      "max_pooling2d_30 (MaxPooling (None, 63, 63, 32)        0         \n",
      "_________________________________________________________________\n",
      "batch_normalization_13 (Batc (None, 63, 63, 32)        128       \n",
      "_________________________________________________________________\n",
      "conv2d_31 (Conv2D)           (None, 61, 61, 64)        18496     \n",
      "_________________________________________________________________\n",
      "max_pooling2d_31 (MaxPooling (None, 30, 30, 64)        0         \n",
      "_________________________________________________________________\n",
      "flatten_15 (Flatten)         (None, 57600)             0         \n",
      "_________________________________________________________________\n",
      "dense_30 (Dense)             (None, 128)               7372928   \n",
      "_________________________________________________________________\n",
      "dense_31 (Dense)             (None, 2)                 258       \n",
      "=================================================================\n",
      "Total params: 7,392,706\n",
      "Trainable params: 7,392,642\n",
      "Non-trainable params: 64\n",
      "_________________________________________________________________\n"
     ]
    }
   ],
   "source": [
    "import keras\n",
    "from keras.models import Sequential\n",
    "from keras.layers import Dense, Dropout, Conv2D, MaxPooling2D, BatchNormalization, Flatten\n",
    "\n",
    "#construction d'un RNN convolutif\n",
    "model2 = tf.keras.Sequential([\n",
    "    tf.keras.layers.Conv2D(32,(3,3),activation='relu',input_shape=(size_image,size_image,3)),\n",
    "    tf.keras.layers.MaxPooling2D(pool_size=(2,2)),\n",
    "    tf.keras.layers.BatchNormalization(),\n",
    "    tf.keras.layers.Conv2D(64,(3,3),activation='relu'),\n",
    "    tf.keras.layers.MaxPooling2D(pool_size=(2,2)),\n",
    "    tf.keras.layers.Flatten(),\n",
    "    tf.keras.layers.Dense(128, activation='relu'),\n",
    "    tf.keras.layers.Dense(2, activation='softmax')\n",
    "])\n",
    "model2.summary()"
   ]
  },
  {
   "cell_type": "code",
   "execution_count": 149,
   "metadata": {},
   "outputs": [],
   "source": [
    "from keras.callbacks import EarlyStopping, ModelCheckpoint, CSVLogger\n",
    "early = EarlyStopping(monitor='val_loss', min_delta=0, patience=5, verbose=0, mode='auto')"
   ]
  },
  {
   "cell_type": "code",
   "execution_count": 122,
   "metadata": {},
   "outputs": [
    {
     "data": {
      "text/plain": [
       "int"
      ]
     },
     "execution_count": 122,
     "metadata": {},
     "output_type": "execute_result"
    }
   ],
   "source": [
    "type(len(X_train))"
   ]
  },
  {
   "cell_type": "code",
   "execution_count": 184,
   "metadata": {},
   "outputs": [
    {
     "name": "stdout",
     "output_type": "stream",
     "text": [
      "Train on 375 samples, validate on 125 samples\n",
      "Epoch 1/25\n",
      "375/375 [==============================] - 17s 46ms/sample - loss: 2.0377 - acc: 0.7387 - val_loss: 1.9690 - val_acc: 0.5280\n",
      "Epoch 2/25\n",
      "375/375 [==============================] - 16s 42ms/sample - loss: 0.0025 - acc: 1.0000 - val_loss: 3.1068 - val_acc: 0.5280\n",
      "Epoch 3/25\n",
      "375/375 [==============================] - 16s 42ms/sample - loss: 8.2390e-06 - acc: 1.0000 - val_loss: 3.3382 - val_acc: 0.5280\n",
      "Epoch 4/25\n",
      "375/375 [==============================] - 16s 43ms/sample - loss: 2.6398e-06 - acc: 1.0000 - val_loss: 3.0422 - val_acc: 0.5280\n",
      "Epoch 5/25\n",
      "375/375 [==============================] - 16s 42ms/sample - loss: 2.0879e-06 - acc: 1.0000 - val_loss: 2.8738 - val_acc: 0.5280\n",
      "Epoch 6/25\n",
      "375/375 [==============================] - 16s 43ms/sample - loss: 1.5879e-06 - acc: 1.0000 - val_loss: 2.7610 - val_acc: 0.5280\n",
      "Epoch 7/25\n",
      "375/375 [==============================] - 16s 42ms/sample - loss: 1.1492e-06 - acc: 1.0000 - val_loss: 2.6104 - val_acc: 0.5280\n",
      "Epoch 8/25\n",
      "375/375 [==============================] - 16s 42ms/sample - loss: 7.4673e-07 - acc: 1.0000 - val_loss: 2.4522 - val_acc: 0.5280\n",
      "Epoch 9/25\n",
      "375/375 [==============================] - 16s 42ms/sample - loss: 4.8192e-07 - acc: 1.0000 - val_loss: 2.3065 - val_acc: 0.5280\n",
      "Epoch 10/25\n",
      "375/375 [==============================] - 16s 42ms/sample - loss: 4.0627e-07 - acc: 1.0000 - val_loss: 2.1455 - val_acc: 0.5280\n",
      "Epoch 11/25\n",
      "375/375 [==============================] - 16s 42ms/sample - loss: 3.2393e-07 - acc: 1.0000 - val_loss: 2.0201 - val_acc: 0.5280\n",
      "Epoch 12/25\n",
      "375/375 [==============================] - 16s 42ms/sample - loss: 2.1553e-07 - acc: 1.0000 - val_loss: 1.9164 - val_acc: 0.5280\n",
      "Epoch 13/25\n",
      "375/375 [==============================] - 16s 42ms/sample - loss: 2.2634e-07 - acc: 1.0000 - val_loss: 1.8121 - val_acc: 0.5280\n",
      "Epoch 14/25\n",
      "375/375 [==============================] - 16s 43ms/sample - loss: 2.2252e-07 - acc: 1.0000 - val_loss: 1.7064 - val_acc: 0.5280\n",
      "Epoch 15/25\n",
      "375/375 [==============================] - 16s 42ms/sample - loss: 1.8883e-07 - acc: 1.0000 - val_loss: 1.5986 - val_acc: 0.5280\n",
      "Epoch 16/25\n",
      "375/375 [==============================] - 16s 42ms/sample - loss: 2.1807e-07 - acc: 1.0000 - val_loss: 1.4711 - val_acc: 0.5280\n",
      "Epoch 17/25\n",
      "375/375 [==============================] - 16s 43ms/sample - loss: 1.8024e-07 - acc: 1.0000 - val_loss: 1.3313 - val_acc: 0.5280\n",
      "Epoch 18/25\n",
      "375/375 [==============================] - 16s 42ms/sample - loss: 1.3606e-07 - acc: 1.0000 - val_loss: 1.1633 - val_acc: 0.5280\n",
      "Epoch 19/25\n",
      "375/375 [==============================] - 16s 42ms/sample - loss: 1.5481e-07 - acc: 1.0000 - val_loss: 0.9611 - val_acc: 0.5280\n",
      "Epoch 20/25\n",
      "375/375 [==============================] - 16s 42ms/sample - loss: 1.6944e-07 - acc: 1.0000 - val_loss: 0.7320 - val_acc: 0.5280\n",
      "Epoch 21/25\n",
      "375/375 [==============================] - 16s 42ms/sample - loss: 1.3447e-07 - acc: 1.0000 - val_loss: 0.4872 - val_acc: 0.5280\n",
      "Epoch 22/25\n",
      "375/375 [==============================] - 16s 42ms/sample - loss: 1.2207e-07 - acc: 1.0000 - val_loss: 0.2710 - val_acc: 1.0000\n",
      "Epoch 23/25\n",
      "375/375 [==============================] - 16s 42ms/sample - loss: 1.2048e-07 - acc: 1.0000 - val_loss: 0.1236 - val_acc: 1.0000\n",
      "Epoch 24/25\n",
      "375/375 [==============================] - 16s 43ms/sample - loss: 1.4814e-07 - acc: 1.0000 - val_loss: 0.0465 - val_acc: 1.0000\n",
      "Epoch 25/25\n",
      "375/375 [==============================] - 16s 42ms/sample - loss: 1.3161e-07 - acc: 1.0000 - val_loss: 0.0147 - val_acc: 1.0000\n",
      "125/125 - 2s - loss: 0.0147 - acc: 1.0000\n",
      "\n",
      "Test accuracy: 1.0\n"
     ]
    }
   ],
   "source": [
    "#choix de l'algo d'apprentissage\n",
    "model2.compile(optimizer='adam',loss='categorical_crossentropy',metrics=['accuracy'])\n",
    "#Apprentissage du modele\n",
    "history = model2.fit(X_train, y_train, epochs=25, batch_size=16,validation_data=(X_test, y_test))#,callbacks=[early])\n",
    "#evaluation du (modele)\n",
    "test_loss2, test_acc2 = model2.evaluate(X_test,  y_test, verbose=2)\n",
    "print('\\nTest accuracy:', test_acc2)"
   ]
  },
  {
   "cell_type": "markdown",
   "metadata": {},
   "source": [
    "Model 2 (plus complex):\n",
    "stagne jusqu'a lepoch 22 puis atteint 1 d'acc \n",
    "Probleme simple avec un model compliqué il reste bloqué dans un minimum local \n",
    "7 Millions de param\n",
    "layer en plus : batch_normalization_13\n",
    "\n",
    "Model 1 : moins complex mais plus adapté au probleme donc il apprend bcp plus vite "
   ]
  },
  {
   "cell_type": "code",
   "execution_count": null,
   "metadata": {},
   "outputs": [],
   "source": [
    "#[40,130] acc = 0.416"
   ]
  },
  {
   "cell_type": "code",
   "execution_count": 130,
   "metadata": {},
   "outputs": [
    {
     "data": {
      "text/html": [
       "<div>\n",
       "<style scoped>\n",
       "    .dataframe tbody tr th:only-of-type {\n",
       "        vertical-align: middle;\n",
       "    }\n",
       "\n",
       "    .dataframe tbody tr th {\n",
       "        vertical-align: top;\n",
       "    }\n",
       "\n",
       "    .dataframe thead th {\n",
       "        text-align: right;\n",
       "    }\n",
       "</style>\n",
       "<table border=\"1\" class=\"dataframe\">\n",
       "  <thead>\n",
       "    <tr style=\"text-align: right;\">\n",
       "      <th></th>\n",
       "      <th>loss</th>\n",
       "      <th>acc</th>\n",
       "      <th>val_loss</th>\n",
       "      <th>val_acc</th>\n",
       "    </tr>\n",
       "  </thead>\n",
       "  <tbody>\n",
       "    <tr>\n",
       "      <th>0</th>\n",
       "      <td>1.020431e-07</td>\n",
       "      <td>1.0</td>\n",
       "      <td>4.737546</td>\n",
       "      <td>0.456</td>\n",
       "    </tr>\n",
       "    <tr>\n",
       "      <th>1</th>\n",
       "      <td>0.000000e+00</td>\n",
       "      <td>1.0</td>\n",
       "      <td>4.936100</td>\n",
       "      <td>0.456</td>\n",
       "    </tr>\n",
       "    <tr>\n",
       "      <th>2</th>\n",
       "      <td>0.000000e+00</td>\n",
       "      <td>1.0</td>\n",
       "      <td>4.918628</td>\n",
       "      <td>0.456</td>\n",
       "    </tr>\n",
       "    <tr>\n",
       "      <th>3</th>\n",
       "      <td>0.000000e+00</td>\n",
       "      <td>1.0</td>\n",
       "      <td>4.871624</td>\n",
       "      <td>0.456</td>\n",
       "    </tr>\n",
       "    <tr>\n",
       "      <th>4</th>\n",
       "      <td>0.000000e+00</td>\n",
       "      <td>1.0</td>\n",
       "      <td>4.696815</td>\n",
       "      <td>0.456</td>\n",
       "    </tr>\n",
       "    <tr>\n",
       "      <th>5</th>\n",
       "      <td>0.000000e+00</td>\n",
       "      <td>1.0</td>\n",
       "      <td>4.559310</td>\n",
       "      <td>0.456</td>\n",
       "    </tr>\n",
       "    <tr>\n",
       "      <th>6</th>\n",
       "      <td>0.000000e+00</td>\n",
       "      <td>1.0</td>\n",
       "      <td>4.454909</td>\n",
       "      <td>0.456</td>\n",
       "    </tr>\n",
       "    <tr>\n",
       "      <th>7</th>\n",
       "      <td>0.000000e+00</td>\n",
       "      <td>1.0</td>\n",
       "      <td>4.360376</td>\n",
       "      <td>0.456</td>\n",
       "    </tr>\n",
       "    <tr>\n",
       "      <th>8</th>\n",
       "      <td>0.000000e+00</td>\n",
       "      <td>1.0</td>\n",
       "      <td>4.220773</td>\n",
       "      <td>0.456</td>\n",
       "    </tr>\n",
       "    <tr>\n",
       "      <th>9</th>\n",
       "      <td>0.000000e+00</td>\n",
       "      <td>1.0</td>\n",
       "      <td>3.911433</td>\n",
       "      <td>0.456</td>\n",
       "    </tr>\n",
       "    <tr>\n",
       "      <th>10</th>\n",
       "      <td>0.000000e+00</td>\n",
       "      <td>1.0</td>\n",
       "      <td>3.760256</td>\n",
       "      <td>0.456</td>\n",
       "    </tr>\n",
       "    <tr>\n",
       "      <th>11</th>\n",
       "      <td>0.000000e+00</td>\n",
       "      <td>1.0</td>\n",
       "      <td>3.548302</td>\n",
       "      <td>0.456</td>\n",
       "    </tr>\n",
       "    <tr>\n",
       "      <th>12</th>\n",
       "      <td>0.000000e+00</td>\n",
       "      <td>1.0</td>\n",
       "      <td>3.112352</td>\n",
       "      <td>0.456</td>\n",
       "    </tr>\n",
       "    <tr>\n",
       "      <th>13</th>\n",
       "      <td>0.000000e+00</td>\n",
       "      <td>1.0</td>\n",
       "      <td>2.754942</td>\n",
       "      <td>0.456</td>\n",
       "    </tr>\n",
       "    <tr>\n",
       "      <th>14</th>\n",
       "      <td>0.000000e+00</td>\n",
       "      <td>1.0</td>\n",
       "      <td>2.354313</td>\n",
       "      <td>0.456</td>\n",
       "    </tr>\n",
       "    <tr>\n",
       "      <th>15</th>\n",
       "      <td>0.000000e+00</td>\n",
       "      <td>1.0</td>\n",
       "      <td>1.362217</td>\n",
       "      <td>0.456</td>\n",
       "    </tr>\n",
       "    <tr>\n",
       "      <th>16</th>\n",
       "      <td>0.000000e+00</td>\n",
       "      <td>1.0</td>\n",
       "      <td>0.908102</td>\n",
       "      <td>0.456</td>\n",
       "    </tr>\n",
       "    <tr>\n",
       "      <th>17</th>\n",
       "      <td>0.000000e+00</td>\n",
       "      <td>1.0</td>\n",
       "      <td>0.431123</td>\n",
       "      <td>0.456</td>\n",
       "    </tr>\n",
       "    <tr>\n",
       "      <th>18</th>\n",
       "      <td>0.000000e+00</td>\n",
       "      <td>1.0</td>\n",
       "      <td>0.128908</td>\n",
       "      <td>1.000</td>\n",
       "    </tr>\n",
       "    <tr>\n",
       "      <th>19</th>\n",
       "      <td>0.000000e+00</td>\n",
       "      <td>1.0</td>\n",
       "      <td>0.019398</td>\n",
       "      <td>1.000</td>\n",
       "    </tr>\n",
       "    <tr>\n",
       "      <th>20</th>\n",
       "      <td>0.000000e+00</td>\n",
       "      <td>1.0</td>\n",
       "      <td>0.003275</td>\n",
       "      <td>1.000</td>\n",
       "    </tr>\n",
       "    <tr>\n",
       "      <th>21</th>\n",
       "      <td>0.000000e+00</td>\n",
       "      <td>1.0</td>\n",
       "      <td>0.000293</td>\n",
       "      <td>1.000</td>\n",
       "    </tr>\n",
       "    <tr>\n",
       "      <th>22</th>\n",
       "      <td>0.000000e+00</td>\n",
       "      <td>1.0</td>\n",
       "      <td>0.000012</td>\n",
       "      <td>1.000</td>\n",
       "    </tr>\n",
       "    <tr>\n",
       "      <th>23</th>\n",
       "      <td>0.000000e+00</td>\n",
       "      <td>1.0</td>\n",
       "      <td>0.000003</td>\n",
       "      <td>1.000</td>\n",
       "    </tr>\n",
       "    <tr>\n",
       "      <th>24</th>\n",
       "      <td>0.000000e+00</td>\n",
       "      <td>1.0</td>\n",
       "      <td>0.000001</td>\n",
       "      <td>1.000</td>\n",
       "    </tr>\n",
       "  </tbody>\n",
       "</table>\n",
       "</div>"
      ],
      "text/plain": [
       "            loss  acc  val_loss  val_acc\n",
       "0   1.020431e-07  1.0  4.737546    0.456\n",
       "1   0.000000e+00  1.0  4.936100    0.456\n",
       "2   0.000000e+00  1.0  4.918628    0.456\n",
       "3   0.000000e+00  1.0  4.871624    0.456\n",
       "4   0.000000e+00  1.0  4.696815    0.456\n",
       "5   0.000000e+00  1.0  4.559310    0.456\n",
       "6   0.000000e+00  1.0  4.454909    0.456\n",
       "7   0.000000e+00  1.0  4.360376    0.456\n",
       "8   0.000000e+00  1.0  4.220773    0.456\n",
       "9   0.000000e+00  1.0  3.911433    0.456\n",
       "10  0.000000e+00  1.0  3.760256    0.456\n",
       "11  0.000000e+00  1.0  3.548302    0.456\n",
       "12  0.000000e+00  1.0  3.112352    0.456\n",
       "13  0.000000e+00  1.0  2.754942    0.456\n",
       "14  0.000000e+00  1.0  2.354313    0.456\n",
       "15  0.000000e+00  1.0  1.362217    0.456\n",
       "16  0.000000e+00  1.0  0.908102    0.456\n",
       "17  0.000000e+00  1.0  0.431123    0.456\n",
       "18  0.000000e+00  1.0  0.128908    1.000\n",
       "19  0.000000e+00  1.0  0.019398    1.000\n",
       "20  0.000000e+00  1.0  0.003275    1.000\n",
       "21  0.000000e+00  1.0  0.000293    1.000\n",
       "22  0.000000e+00  1.0  0.000012    1.000\n",
       "23  0.000000e+00  1.0  0.000003    1.000\n",
       "24  0.000000e+00  1.0  0.000001    1.000"
      ]
     },
     "execution_count": 130,
     "metadata": {},
     "output_type": "execute_result"
    }
   ],
   "source": [
    "import pandas as pd\n",
    "logs = pd.DataFrame(history.history)\n",
    "logs"
   ]
  },
  {
   "cell_type": "code",
   "execution_count": 128,
   "metadata": {},
   "outputs": [],
   "source": [
    "def plot_courb(X,Y,Y2,title,xlabel,ylabel,legendLoc):\n",
    "    plt.plot(Y)\n",
    "    plt.plot(Y2)\n",
    "    plt.title(title)\n",
    "    plt.xlabel(xlabel)\n",
    "    plt.ylabel(ylabel)\n",
    "    plt.legend(['train','val'],loc=legendLoc)\n",
    "    #to get a clean curve\n",
    "    plt.xlim(xmin=0.0, xmax=max(X))\n",
    "    plt.show()"
   ]
  },
  {
   "cell_type": "code",
   "execution_count": 131,
   "metadata": {},
   "outputs": [
    {
     "data": {
      "image/png": "[encoded data removed]",
      "text/plain": [
       "<Figure size 432x288 with 1 Axes>"
      ]
     },
     "metadata": {
      "needs_background": "light"
     },
     "output_type": "display_data"
    }
   ],
   "source": [
    "plot_courb(logs.index,logs[\"acc\"],logs[\"val_acc\"],'TRAIN_VAL_Accuracy', 'Epoch', 'Accuracy', 'upper left')"
   ]
  },
  {
   "cell_type": "code",
   "execution_count": 132,
   "metadata": {},
   "outputs": [
    {
     "data": {
      "image/png": "[encoded data removed]",
      "text/plain": [
       "<Figure size 432x288 with 1 Axes>"
      ]
     },
     "metadata": {
      "needs_background": "light"
     },
     "output_type": "display_data"
    }
   ],
   "source": [
    "plot_courb(logs.index,logs[\"loss\"],logs[\"val_loss\"],'TRAIN_VAL_loss', 'Epoch', 'Loss', 'upper left')"
   ]
  },
  {
   "cell_type": "code",
   "execution_count": 133,
   "metadata": {},
   "outputs": [
    {
     "data": {
      "text/plain": [
       "array([[2.9980785e-10, 1.0000000e+00],\n",
       "       [9.9999809e-01, 1.9163347e-06],\n",
       "       [2.9980785e-10, 1.0000000e+00],\n",
       "       [2.9980785e-10, 1.0000000e+00],\n",
       "       [2.9980785e-10, 1.0000000e+00],\n",
       "       [9.9999809e-01, 1.9163347e-06],\n",
       "       [9.9999809e-01, 1.9163347e-06],\n",
       "       [2.9980785e-10, 1.0000000e+00],\n",
       "       [9.9999809e-01, 1.9163347e-06],\n",
       "       [9.9999809e-01, 1.9163347e-06],\n",
       "       [9.9999809e-01, 1.9163347e-06],\n",
       "       [9.9999809e-01, 1.9163347e-06],\n",
       "       [9.9999809e-01, 1.9163347e-06],\n",
       "       [2.9980785e-10, 1.0000000e+00],\n",
       "       [9.9999809e-01, 1.9163347e-06],\n",
       "       [2.9980785e-10, 1.0000000e+00],\n",
       "       [2.9980785e-10, 1.0000000e+00],\n",
       "       [2.9980785e-10, 1.0000000e+00],\n",
       "       [2.9980785e-10, 1.0000000e+00],\n",
       "       [2.9980785e-10, 1.0000000e+00],\n",
       "       [9.9999809e-01, 1.9163347e-06],\n",
       "       [9.9999809e-01, 1.9163347e-06],\n",
       "       [2.9980785e-10, 1.0000000e+00],\n",
       "       [2.9980785e-10, 1.0000000e+00],\n",
       "       [9.9999809e-01, 1.9163347e-06],\n",
       "       [9.9999809e-01, 1.9163347e-06],\n",
       "       [2.9980785e-10, 1.0000000e+00],\n",
       "       [9.9999809e-01, 1.9163347e-06],\n",
       "       [2.9980785e-10, 1.0000000e+00],\n",
       "       [2.9980785e-10, 1.0000000e+00],\n",
       "       [9.9999809e-01, 1.9163383e-06],\n",
       "       [9.9999809e-01, 1.9163383e-06],\n",
       "       [9.9999809e-01, 1.9163347e-06],\n",
       "       [9.9999809e-01, 1.9163347e-06],\n",
       "       [9.9999809e-01, 1.9163347e-06],\n",
       "       [9.9999809e-01, 1.9163347e-06],\n",
       "       [9.9999809e-01, 1.9163347e-06],\n",
       "       [9.9999809e-01, 1.9163347e-06],\n",
       "       [9.9999809e-01, 1.9163347e-06],\n",
       "       [2.9980785e-10, 1.0000000e+00],\n",
       "       [9.9999809e-01, 1.9163347e-06],\n",
       "       [9.9999809e-01, 1.9163347e-06],\n",
       "       [2.9980785e-10, 1.0000000e+00],\n",
       "       [9.9999809e-01, 1.9163347e-06],\n",
       "       [9.9999809e-01, 1.9163347e-06],\n",
       "       [9.9999809e-01, 1.9163347e-06],\n",
       "       [2.9980785e-10, 1.0000000e+00],\n",
       "       [9.9999809e-01, 1.9163347e-06],\n",
       "       [9.9999809e-01, 1.9163347e-06],\n",
       "       [9.9999809e-01, 1.9163347e-06],\n",
       "       [9.9999809e-01, 1.9163347e-06],\n",
       "       [2.9980785e-10, 1.0000000e+00],\n",
       "       [2.9980785e-10, 1.0000000e+00],\n",
       "       [9.9999809e-01, 1.9163347e-06],\n",
       "       [9.9999809e-01, 1.9163347e-06],\n",
       "       [2.9980785e-10, 1.0000000e+00],\n",
       "       [2.9980785e-10, 1.0000000e+00],\n",
       "       [9.9999809e-01, 1.9163347e-06],\n",
       "       [2.9980785e-10, 1.0000000e+00],\n",
       "       [9.9999809e-01, 1.9163347e-06],\n",
       "       [2.9980785e-10, 1.0000000e+00],\n",
       "       [9.9999809e-01, 1.9163347e-06],\n",
       "       [9.9999809e-01, 1.9163383e-06],\n",
       "       [9.9999809e-01, 1.9163383e-06],\n",
       "       [9.9999809e-01, 1.9163347e-06],\n",
       "       [9.9999809e-01, 1.9163347e-06],\n",
       "       [2.9980785e-10, 1.0000000e+00],\n",
       "       [9.9999809e-01, 1.9163347e-06],\n",
       "       [2.9980785e-10, 1.0000000e+00],\n",
       "       [9.9999809e-01, 1.9163347e-06],\n",
       "       [2.9980785e-10, 1.0000000e+00],\n",
       "       [9.9999809e-01, 1.9163347e-06],\n",
       "       [2.9980785e-10, 1.0000000e+00],\n",
       "       [9.9999809e-01, 1.9163347e-06],\n",
       "       [2.9980785e-10, 1.0000000e+00],\n",
       "       [9.9999809e-01, 1.9163347e-06],\n",
       "       [2.9980785e-10, 1.0000000e+00],\n",
       "       [2.9980785e-10, 1.0000000e+00],\n",
       "       [2.9980785e-10, 1.0000000e+00],\n",
       "       [2.9980785e-10, 1.0000000e+00],\n",
       "       [2.9980785e-10, 1.0000000e+00],\n",
       "       [2.9980785e-10, 1.0000000e+00],\n",
       "       [9.9999809e-01, 1.9163347e-06],\n",
       "       [9.9999809e-01, 1.9163347e-06],\n",
       "       [9.9999809e-01, 1.9163347e-06],\n",
       "       [2.9980785e-10, 1.0000000e+00],\n",
       "       [9.9999809e-01, 1.9163347e-06],\n",
       "       [2.9980785e-10, 1.0000000e+00],\n",
       "       [9.9999809e-01, 1.9163347e-06],\n",
       "       [9.9999809e-01, 1.9163347e-06],\n",
       "       [2.9980785e-10, 1.0000000e+00],\n",
       "       [2.9980785e-10, 1.0000000e+00],\n",
       "       [2.9980785e-10, 1.0000000e+00],\n",
       "       [9.9999809e-01, 1.9163347e-06],\n",
       "       [9.9999809e-01, 1.9163383e-06],\n",
       "       [2.9980843e-10, 1.0000000e+00],\n",
       "       [2.9980785e-10, 1.0000000e+00],\n",
       "       [2.9980785e-10, 1.0000000e+00],\n",
       "       [9.9999809e-01, 1.9163347e-06],\n",
       "       [2.9980785e-10, 1.0000000e+00],\n",
       "       [9.9999809e-01, 1.9163347e-06],\n",
       "       [9.9999809e-01, 1.9163347e-06],\n",
       "       [9.9999809e-01, 1.9163347e-06],\n",
       "       [9.9999809e-01, 1.9163347e-06],\n",
       "       [2.9980785e-10, 1.0000000e+00],\n",
       "       [2.9980785e-10, 1.0000000e+00],\n",
       "       [2.9980785e-10, 1.0000000e+00],\n",
       "       [2.9980785e-10, 1.0000000e+00],\n",
       "       [2.9980785e-10, 1.0000000e+00],\n",
       "       [9.9999809e-01, 1.9163347e-06],\n",
       "       [2.9980785e-10, 1.0000000e+00],\n",
       "       [9.9999809e-01, 1.9163347e-06],\n",
       "       [9.9999809e-01, 1.9163347e-06],\n",
       "       [9.9999809e-01, 1.9163347e-06],\n",
       "       [9.9999809e-01, 1.9163347e-06],\n",
       "       [9.9999809e-01, 1.9163347e-06],\n",
       "       [2.9980785e-10, 1.0000000e+00],\n",
       "       [2.9980785e-10, 1.0000000e+00],\n",
       "       [2.9980785e-10, 1.0000000e+00],\n",
       "       [2.9980785e-10, 1.0000000e+00],\n",
       "       [2.9980785e-10, 1.0000000e+00],\n",
       "       [9.9999809e-01, 1.9163347e-06],\n",
       "       [2.9980785e-10, 1.0000000e+00],\n",
       "       [9.9999809e-01, 1.9163347e-06],\n",
       "       [9.9999809e-01, 1.9163347e-06]], dtype=float32)"
      ]
     },
     "execution_count": 133,
     "metadata": {},
     "output_type": "execute_result"
    }
   ],
   "source": [
    "res = model2.predict(X_test)\n",
    "res"
   ]
  },
  {
   "cell_type": "code",
   "execution_count": 99,
   "metadata": {},
   "outputs": [
    {
     "data": {
      "text/plain": [
       "array([[0., 1.],\n",
       "       [0., 1.],\n",
       "       [0., 1.],\n",
       "       [0., 1.],\n",
       "       [0., 1.],\n",
       "       [0., 1.],\n",
       "       [1., 0.],\n",
       "       [1., 0.],\n",
       "       [1., 0.],\n",
       "       [1., 0.],\n",
       "       [0., 1.],\n",
       "       [1., 0.],\n",
       "       [1., 0.],\n",
       "       [1., 0.],\n",
       "       [0., 1.],\n",
       "       [1., 0.],\n",
       "       [1., 0.],\n",
       "       [1., 0.],\n",
       "       [1., 0.],\n",
       "       [1., 0.],\n",
       "       [1., 0.],\n",
       "       [0., 1.],\n",
       "       [1., 0.],\n",
       "       [0., 1.],\n",
       "       [1., 0.],\n",
       "       [0., 1.],\n",
       "       [0., 1.],\n",
       "       [1., 0.],\n",
       "       [0., 1.],\n",
       "       [1., 0.],\n",
       "       [0., 1.],\n",
       "       [0., 1.],\n",
       "       [0., 1.],\n",
       "       [1., 0.],\n",
       "       [0., 1.],\n",
       "       [1., 0.],\n",
       "       [1., 0.],\n",
       "       [0., 1.],\n",
       "       [0., 1.],\n",
       "       [0., 1.],\n",
       "       [1., 0.],\n",
       "       [1., 0.],\n",
       "       [1., 0.],\n",
       "       [1., 0.],\n",
       "       [1., 0.],\n",
       "       [1., 0.],\n",
       "       [0., 1.],\n",
       "       [0., 1.],\n",
       "       [0., 1.],\n",
       "       [0., 1.],\n",
       "       [1., 0.],\n",
       "       [1., 0.],\n",
       "       [0., 1.],\n",
       "       [0., 1.],\n",
       "       [1., 0.],\n",
       "       [0., 1.],\n",
       "       [1., 0.],\n",
       "       [1., 0.],\n",
       "       [1., 0.],\n",
       "       [1., 0.],\n",
       "       [1., 0.],\n",
       "       [1., 0.],\n",
       "       [1., 0.],\n",
       "       [0., 1.],\n",
       "       [1., 0.],\n",
       "       [0., 1.],\n",
       "       [0., 1.],\n",
       "       [1., 0.],\n",
       "       [0., 1.],\n",
       "       [0., 1.],\n",
       "       [1., 0.],\n",
       "       [1., 0.],\n",
       "       [1., 0.],\n",
       "       [0., 1.],\n",
       "       [1., 0.],\n",
       "       [0., 1.],\n",
       "       [1., 0.],\n",
       "       [0., 1.],\n",
       "       [0., 1.],\n",
       "       [1., 0.],\n",
       "       [0., 1.],\n",
       "       [0., 1.],\n",
       "       [0., 1.],\n",
       "       [1., 0.],\n",
       "       [1., 0.],\n",
       "       [1., 0.],\n",
       "       [1., 0.],\n",
       "       [0., 1.],\n",
       "       [1., 0.],\n",
       "       [1., 0.],\n",
       "       [0., 1.],\n",
       "       [0., 1.],\n",
       "       [0., 1.],\n",
       "       [1., 0.],\n",
       "       [1., 0.],\n",
       "       [0., 1.],\n",
       "       [0., 1.],\n",
       "       [1., 0.],\n",
       "       [0., 1.],\n",
       "       [1., 0.],\n",
       "       [1., 0.],\n",
       "       [0., 1.],\n",
       "       [1., 0.],\n",
       "       [0., 1.],\n",
       "       [1., 0.],\n",
       "       [1., 0.],\n",
       "       [0., 1.],\n",
       "       [0., 1.],\n",
       "       [1., 0.],\n",
       "       [0., 1.],\n",
       "       [0., 1.],\n",
       "       [1., 0.],\n",
       "       [1., 0.],\n",
       "       [1., 0.],\n",
       "       [0., 1.],\n",
       "       [1., 0.],\n",
       "       [1., 0.],\n",
       "       [1., 0.],\n",
       "       [0., 1.],\n",
       "       [0., 1.],\n",
       "       [1., 0.],\n",
       "       [1., 0.],\n",
       "       [0., 1.],\n",
       "       [1., 0.],\n",
       "       [0., 1.]], dtype=float32)"
      ]
     },
     "execution_count": 99,
     "metadata": {},
     "output_type": "execute_result"
    }
   ],
   "source": [
    "y_test"
   ]
  },
  {
   "cell_type": "code",
   "execution_count": null,
   "metadata": {},
   "outputs": [],
   "source": []
  },
  {
   "cell_type": "code",
   "execution_count": 20,
   "metadata": {},
   "outputs": [],
   "source": [
    "couleur = [50,200]\n",
    "n = rd.randint(0,1)\n",
    "bg_color = np.array([couleur[n],couleur[n],couleur[n]]).reshape([1, 1, 3])\n",
    "image = np.ones([28, 28, 3], dtype=np.uint8)\n",
    "image = image * bg_color.astype(np.uint8)"
   ]
  }
 ],
 "metadata": {
  "kernelspec": {
   "display_name": "Python 3",
   "language": "python",
   "name": "python3"
  },
  "language_info": {
   "codemirror_mode": {
    "name": "ipython",
    "version": 3
   },
   "file_extension": ".py",
   "mimetype": "text/x-python",
   "name": "python",
   "nbconvert_exporter": "python",
   "pygments_lexer": "ipython3",
   "version": "3.7.6"
  }
 },
 "nbformat": 4,
 "nbformat_minor": 4
}
