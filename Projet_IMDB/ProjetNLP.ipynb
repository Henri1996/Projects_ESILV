{
  "nbformat": 4,
  "nbformat_minor": 0,
  "metadata": {
    "colab": {
      "name": "ProjetNLP.ipynb",
      "provenance": [],
      "collapsed_sections": []
    },
    "kernelspec": {
      "name": "python3",
      "display_name": "Python 3"
    },
    "accelerator": "GPU"
  },
  "cells": [
    {
      "cell_type": "code",
      "metadata": {
        "id": "xCW6jxsFU0xS",
        "colab_type": "code",
        "colab": {}
      },
      "source": [
        "!pip install --upgrade tensorflow\n",
        "# TensorFlow and tf.keras\n",
        "import tensorflow as tf\n",
        "from tensorflow import keras\n",
        "print(tf.__version__)"
      ],
      "execution_count": 0,
      "outputs": []
    },
    {
      "cell_type": "code",
      "metadata": {
        "id": "z0YhC_iD7EQG",
        "colab_type": "code",
        "colab": {}
      },
      "source": [
        "import tensorflow as tf\n",
        "import tensorflow_hub as hub\n",
        "import tensorflow_datasets as tfds\n",
        "from tensorflow import keras\n",
        "import pandas as pd"
      ],
      "execution_count": 0,
      "outputs": []
    },
    {
      "cell_type": "code",
      "metadata": {
        "id": "4sh-h5dRhixj",
        "colab_type": "code",
        "colab": {}
      },
      "source": [
        "column_names = ['reviews.rating','reviews.text']\n",
        "hotel_review = pd.read_csv('http://christophe-rodrigues.fr/eval_reviews.csv', usecols=column_names, sep=\";\")"
      ],
      "execution_count": 0,
      "outputs": []
    },
    {
      "cell_type": "code",
      "metadata": {
        "id": "h885Sm30guRP",
        "colab_type": "code",
        "colab": {}
      },
      "source": [
        "#On enleve une colonne \n",
        "#hotel_review2notes  = hotel_review.iloc[:,1:3]\n",
        "#On creer un dataset avec juste les notes 1 et 5\n",
        "#values = [1,5]\n",
        "#hotel_reviewBis = hotel_review.loc[hotel_review['reviews.rating'].isin(values)]"
      ],
      "execution_count": 0,
      "outputs": []
    },
    {
      "cell_type": "code",
      "metadata": {
        "id": "BC_tuBC5VYko",
        "colab_type": "code",
        "outputId": "a5f1d57d-18c1-4587-e204-3f86f5b86175",
        "colab": {
          "base_uri": "https://localhost:8080/",
          "height": 153
        }
      },
      "source": [
        "import nltk\n",
        "nltk.download('stopwords')\n",
        "nltk.download('wordnet')\n",
        "nltk.download('averaged_perceptron_tagger')\n",
        "from nltk.corpus import stopwords\n",
        "from nltk.tokenize import TreebankWordTokenizer\n",
        "from nltk.stem import WordNetLemmatizer\n",
        "tokenizer = TreebankWordTokenizer()\n",
        "lemmatizer = WordNetLemmatizer()\n",
        "stops = set(stopwords.words('english'))\n",
        "import pandas as pd\n",
        "from sklearn.metrics import mean_squared_error\n",
        "import random\n",
        "\n"
      ],
      "execution_count": 0,
      "outputs": [
        {
          "output_type": "stream",
          "text": [
            "[nltk_data] Downloading package stopwords to /root/nltk_data...\n",
            "[nltk_data]   Package stopwords is already up-to-date!\n",
            "[nltk_data] Downloading package wordnet to /root/nltk_data...\n",
            "[nltk_data]   Package wordnet is already up-to-date!\n",
            "[nltk_data] Downloading package averaged_perceptron_tagger to\n",
            "[nltk_data]     /root/nltk_data...\n",
            "[nltk_data]   Package averaged_perceptron_tagger is already up-to-\n",
            "[nltk_data]       date!\n"
          ],
          "name": "stdout"
        }
      ]
    },
    {
      "cell_type": "code",
      "metadata": {
        "id": "MABrEMQubcs9",
        "colab_type": "code",
        "colab": {}
      },
      "source": [
        "def cleanReview(str):\n",
        "  maL = tokenizer.tokenize(str)\n",
        "  text_word_stops = [ _ for _ in maL if _ not in stops]\n",
        "  text_word_stops = [ _.lower() for _ in text_word_stops ]\n",
        "  text_lemma = [lemmatizer.lemmatize(word) for word in text_word_stops]\n",
        "  text_lemma = [word for word in text_lemma  if word != \"``\"]\n",
        "  text_lemma = [word for word in text_lemma  if word != \"''\"]\n",
        "  #ex = nltk.pos_tag(text_lemma)\n",
        "  #mesAdj = [_[0] for _ in ex if _[1]  == 'JJ'or _[1] =='JJR' or _[1] == 'JJS' or _[1] == 'NN' or _[1] == 'NNS' or _[1] == 'RB' or _[1] == 'RBS' or _[1] == 'RBR' ]\n",
        "  str_lemma = ' '.join(text_lemma)\n",
        "  return str_lemma\n"
      ],
      "execution_count": 0,
      "outputs": []
    },
    {
      "cell_type": "code",
      "metadata": {
        "id": "gS3-LxsZhrK_",
        "colab_type": "code",
        "outputId": "a4f23ea2-33dc-4dd2-935c-a9c1463ae725",
        "colab": {
          "base_uri": "https://localhost:8080/",
          "height": 122
        }
      },
      "source": [
        "maListe = []\n",
        "maListe2 = []\n",
        "for  review in hotel_review['reviews.text']:\n",
        "  maList = cleanReview(review)\n",
        "  maListe2.append(maList)\n",
        "for i , ele in enumerate(maListe2):\n",
        "  hotel_review['reviews.text'][i] = ele"
      ],
      "execution_count": 0,
      "outputs": [
        {
          "output_type": "stream",
          "text": [
            "/usr/local/lib/python3.6/dist-packages/ipykernel_launcher.py:7: SettingWithCopyWarning: \n",
            "A value is trying to be set on a copy of a slice from a DataFrame\n",
            "\n",
            "See the caveats in the documentation: http://pandas.pydata.org/pandas-docs/stable/user_guide/indexing.html#returning-a-view-versus-a-copy\n",
            "  import sys\n"
          ],
          "name": "stderr"
        }
      ]
    },
    {
      "cell_type": "code",
      "metadata": {
        "id": "z3QCdlJktBbU",
        "colab_type": "code",
        "colab": {}
      },
      "source": [
        "#Fonction qui nous retourneras le R^2\n",
        "def get_score(algo, X_train,X_test,Y_train,Y_test):\n",
        "    algo.fit(X_train,Y_train)\n",
        "    score = algo.score(X_test,Y_test)\n",
        "    return score"
      ],
      "execution_count": 0,
      "outputs": []
    },
    {
      "cell_type": "code",
      "metadata": {
        "id": "cB0saZJ8efvS",
        "colab_type": "code",
        "colab": {}
      },
      "source": [
        "#Fonction qui nous retourneras la precision \n",
        "from sklearn.metrics import accuracy_score\n",
        "def get_acc(algo,X_train,X_test,Y_train,Y_test):\n",
        "    algo.fit(X_train,Y_train)\n",
        "    Y_pred = algo.predict(X_test)\n",
        "    acc = accuracy_score(Y_test,Y_pred) \n",
        "    return acc"
      ],
      "execution_count": 0,
      "outputs": []
    },
    {
      "cell_type": "code",
      "metadata": {
        "id": "LRvOeFMntEu_",
        "colab_type": "code",
        "colab": {}
      },
      "source": [
        "#Fonction qui nous retourneras le mse\n",
        "from sklearn.metrics import mean_squared_error \n",
        "def get_mse(algo,X_train,X_test,Y_train,Y_test):\n",
        "    algo.fit(X_train,Y_train)\n",
        "    Y_pred = algo.predict(X_test)\n",
        "    mse = mean_squared_error(Y_test,Y_pred) \n",
        "    return mse"
      ],
      "execution_count": 0,
      "outputs": []
    },
    {
      "cell_type": "code",
      "metadata": {
        "id": "6WAcAqLbtfub",
        "colab_type": "code",
        "colab": {}
      },
      "source": [
        "#Conversion du text en vecteurs de nombres\n",
        "embedding = \"https://tfhub.dev/google/tf2-preview/gnews-swivel-20dim/1\"\n",
        "hub_layer = hub.KerasLayer(embedding, input_shape=[], dtype=tf.string, trainable=True)\n"
      ],
      "execution_count": 0,
      "outputs": []
    },
    {
      "cell_type": "code",
      "metadata": {
        "id": "ytbRWnygmM25",
        "colab_type": "code",
        "colab": {}
      },
      "source": [
        "import tensorflow as tf\n",
        "import numpy as np"
      ],
      "execution_count": 0,
      "outputs": []
    },
    {
      "cell_type": "markdown",
      "metadata": {
        "id": "q_PVWFOFCtVe",
        "colab_type": "text"
      },
      "source": [
        "# Machine learning\n"
      ]
    },
    {
      "cell_type": "code",
      "metadata": {
        "id": "faNnce9r_f8Z",
        "colab_type": "code",
        "colab": {}
      },
      "source": [
        "from sklearn.model_selection import train_test_split\n",
        "TrainX, TestX, TrainY, TestY = train_test_split(hotel_review['reviews.text'], hotel_review['reviews.rating'], test_size = 0.2, random_state = 0)"
      ],
      "execution_count": 0,
      "outputs": []
    },
    {
      "cell_type": "code",
      "metadata": {
        "id": "tizcPBD-_gnI",
        "colab_type": "code",
        "colab": {}
      },
      "source": [
        "from sklearn.preprocessing import StandardScaler\n",
        "\n",
        "#Conversion du texte en vecteurs de nombres\n",
        "ConvTrainX = hub_layer(TrainX)\n",
        "ConvTestX = hub_layer(TestX)\n",
        "\n",
        "scaler = StandardScaler()\n",
        "scaler.fit(ConvTrainX)#trouve la moyenne et l'ecart type\n",
        "ConvTrainX = scaler.transform(ConvTrainX)#normalize\n",
        "ConvTestX  =scaler.transform(ConvTestX)\n",
        "\n",
        "#ConvTrainX"
      ],
      "execution_count": 0,
      "outputs": []
    },
    {
      "cell_type": "markdown",
      "metadata": {
        "id": "P7F1giASBKra",
        "colab_type": "text"
      },
      "source": [
        "## Linear Discriminant Analysis"
      ]
    },
    {
      "cell_type": "code",
      "metadata": {
        "id": "hWQRYctYBKfZ",
        "colab_type": "code",
        "outputId": "0fa89285-1cbc-4f48-bb7e-cae91e44f6f0",
        "colab": {
          "base_uri": "https://localhost:8080/",
          "height": 51
        }
      },
      "source": [
        "from sklearn.discriminant_analysis import LinearDiscriminantAnalysis\n",
        "\n",
        "R2 = get_score(LinearDiscriminantAnalysis(),ConvTrainX,ConvTestX,TrainY,TestY)\n",
        "MSE = get_mse(LinearDiscriminantAnalysis(),ConvTrainX,ConvTestX,TrainY,TestY)\n",
        "print('R2 :',R2)\n",
        "print('MSE :',MSE)"
      ],
      "execution_count": 0,
      "outputs": [
        {
          "output_type": "stream",
          "text": [
            "R2 : 0.5315\n",
            "MSE : 1.209\n"
          ],
          "name": "stdout"
        }
      ]
    },
    {
      "cell_type": "markdown",
      "metadata": {
        "id": "Py55y7ViBW5s",
        "colab_type": "text"
      },
      "source": [
        "## Random forest"
      ]
    },
    {
      "cell_type": "code",
      "metadata": {
        "id": "fDlk9xvxBKTp",
        "colab_type": "code",
        "outputId": "5ff9f1fa-89a7-4b7d-dbae-88853b9247d1",
        "colab": {
          "base_uri": "https://localhost:8080/",
          "height": 139
        }
      },
      "source": [
        "from sklearn.ensemble import RandomForestClassifier\n",
        "\n",
        "R2 = get_score(RandomForestClassifier(),ConvTrainX,ConvTestX,TrainY,TestY)\n",
        "MSE = get_mse(RandomForestClassifier(),ConvTrainX,ConvTestX,TrainY,TestY)\n",
        "print('R2 :',R2)\n",
        "print('MSE :',MSE)"
      ],
      "execution_count": 0,
      "outputs": [
        {
          "output_type": "stream",
          "text": [
            "/usr/local/lib/python3.6/dist-packages/sklearn/ensemble/forest.py:245: FutureWarning: The default value of n_estimators will change from 10 in version 0.20 to 100 in 0.22.\n",
            "  \"10 in version 0.20 to 100 in 0.22.\", FutureWarning)\n",
            "/usr/local/lib/python3.6/dist-packages/sklearn/ensemble/forest.py:245: FutureWarning: The default value of n_estimators will change from 10 in version 0.20 to 100 in 0.22.\n",
            "  \"10 in version 0.20 to 100 in 0.22.\", FutureWarning)\n"
          ],
          "name": "stderr"
        },
        {
          "output_type": "stream",
          "text": [
            "R2 : 0.512\n",
            "MSE : 1.3395\n"
          ],
          "name": "stdout"
        }
      ]
    },
    {
      "cell_type": "markdown",
      "metadata": {
        "id": "mvRyMiI7BgIl",
        "colab_type": "text"
      },
      "source": [
        "## Extra tree"
      ]
    },
    {
      "cell_type": "code",
      "metadata": {
        "id": "v0dfKJxtA9C9",
        "colab_type": "code",
        "outputId": "b431d696-8672-4a06-f753-066aee577ec2",
        "colab": {
          "base_uri": "https://localhost:8080/",
          "height": 139
        }
      },
      "source": [
        "from sklearn.ensemble import ExtraTreesClassifier\n",
        "\n",
        "R2 = get_score(ExtraTreesClassifier(),ConvTrainX,ConvTestX,TrainY,TestY)\n",
        "MSE = get_mse(ExtraTreesClassifier(),ConvTrainX,ConvTestX,TrainY,TestY)\n",
        "print('R2 :',R2)\n",
        "print('MSE :',MSE)"
      ],
      "execution_count": 0,
      "outputs": [
        {
          "output_type": "stream",
          "text": [
            "/usr/local/lib/python3.6/dist-packages/sklearn/ensemble/forest.py:245: FutureWarning: The default value of n_estimators will change from 10 in version 0.20 to 100 in 0.22.\n",
            "  \"10 in version 0.20 to 100 in 0.22.\", FutureWarning)\n",
            "/usr/local/lib/python3.6/dist-packages/sklearn/ensemble/forest.py:245: FutureWarning: The default value of n_estimators will change from 10 in version 0.20 to 100 in 0.22.\n",
            "  \"10 in version 0.20 to 100 in 0.22.\", FutureWarning)\n"
          ],
          "name": "stderr"
        },
        {
          "output_type": "stream",
          "text": [
            "R2 : 0.495\n",
            "MSE : 1.31\n"
          ],
          "name": "stdout"
        }
      ]
    },
    {
      "cell_type": "markdown",
      "metadata": {
        "id": "LuynBL9AItqZ",
        "colab_type": "text"
      },
      "source": [
        "## Gradient Boosting Classifer"
      ]
    },
    {
      "cell_type": "code",
      "metadata": {
        "id": "GD9LdiqaA9kJ",
        "colab_type": "code",
        "outputId": "7372ca74-c05f-44c5-d065-1fea74bb27a3",
        "colab": {
          "base_uri": "https://localhost:8080/",
          "height": 51
        }
      },
      "source": [
        "from sklearn.ensemble import GradientBoostingClassifier\n",
        "R2 = get_score(GradientBoostingClassifier(),ConvTrainX,ConvTestX,TrainY,TestY)\n",
        "MSE = get_mse(GradientBoostingClassifier(),ConvTrainX,ConvTestX,TrainY,TestY)\n",
        "print('R2 :',R2)\n",
        "print('MSE :',MSE)\n"
      ],
      "execution_count": 0,
      "outputs": [
        {
          "output_type": "stream",
          "text": [
            "R2 : 0.5125\n",
            "MSE : 1.295\n"
          ],
          "name": "stdout"
        }
      ]
    },
    {
      "cell_type": "markdown",
      "metadata": {
        "id": "uz3Z9c5_BHrP",
        "colab_type": "text"
      },
      "source": [
        "# Deep learning"
      ]
    },
    {
      "cell_type": "markdown",
      "metadata": {
        "id": "SDP4E9YVqNDD",
        "colab_type": "text"
      },
      "source": [
        "Model avec les 5 notes"
      ]
    },
    {
      "cell_type": "code",
      "metadata": {
        "id": "JUEFqwjlqTrP",
        "colab_type": "code",
        "outputId": "f07ebfd0-a96b-4c1d-e3fe-2174448aa9d4",
        "colab": {
          "base_uri": "https://localhost:8080/",
          "height": 122
        }
      },
      "source": [
        "#On retire 1 a chaque note pour le bon fonctionnement de notre futur RNN\n",
        "hotel_review['reviews.rating'].loc[hotel_review['reviews.rating']==1] = 0\n",
        "hotel_review['reviews.rating'].loc[hotel_review['reviews.rating']==2] = 1\n",
        "hotel_review['reviews.rating'].loc[hotel_review['reviews.rating']==3] = 2\n",
        "hotel_review['reviews.rating'].loc[hotel_review['reviews.rating']==4] = 3\n",
        "hotel_review['reviews.rating'].loc[hotel_review['reviews.rating']==5] = 4\n"
      ],
      "execution_count": 0,
      "outputs": [
        {
          "output_type": "stream",
          "text": [
            "/usr/local/lib/python3.6/dist-packages/pandas/core/indexing.py:205: SettingWithCopyWarning: \n",
            "A value is trying to be set on a copy of a slice from a DataFrame\n",
            "\n",
            "See the caveats in the documentation: http://pandas.pydata.org/pandas-docs/stable/user_guide/indexing.html#returning-a-view-versus-a-copy\n",
            "  self._setitem_with_indexer(indexer, value)\n"
          ],
          "name": "stderr"
        }
      ]
    },
    {
      "cell_type": "code",
      "metadata": {
        "id": "OvaC8RG2rZps",
        "colab_type": "code",
        "colab": {}
      },
      "source": [
        "#On cree une nouvelle fois les jeux de test et train avec cette fois toutes les notes\n",
        "#Separation du training set et du test set\n",
        "from sklearn.model_selection import train_test_split\u001c\n",
        "TrainX2, TestX2, TrainY2, TestY2 = train_test_split(hotel_review['reviews.text'], hotel_review['reviews.rating'], test_size = 0.4, random_state = 0)"
      ],
      "execution_count": 0,
      "outputs": []
    },
    {
      "cell_type": "code",
      "metadata": {
        "id": "T3JkY5Y-xp9D",
        "colab_type": "code",
        "outputId": "254e9ba1-71d9-426f-9bf9-0d3dd1821936",
        "colab": {
          "base_uri": "https://localhost:8080/",
          "height": 34
        }
      },
      "source": [
        "TrainX.shape, TestX.shape, TrainY.shape, TestY.shape "
      ],
      "execution_count": 0,
      "outputs": [
        {
          "output_type": "execute_result",
          "data": {
            "text/plain": [
              "((8000,), (2000,), (8000,), (2000,))"
            ]
          },
          "metadata": {
            "tags": []
          },
          "execution_count": 67
        }
      ]
    },
    {
      "cell_type": "code",
      "metadata": {
        "id": "r0wkoYX1xQ8i",
        "colab_type": "code",
        "outputId": "a7ff4204-9462-4115-efe4-e141b92243a9",
        "colab": {
          "base_uri": "https://localhost:8080/",
          "height": 34
        }
      },
      "source": [
        "TrainX2.shape, TestX2.shape, TrainY2.shape, TestY2.shape "
      ],
      "execution_count": 0,
      "outputs": [
        {
          "output_type": "execute_result",
          "data": {
            "text/plain": [
              "((6000,), (4000,), (6000,), (4000,))"
            ]
          },
          "metadata": {
            "tags": []
          },
          "execution_count": 68
        }
      ]
    },
    {
      "cell_type": "code",
      "metadata": {
        "id": "Qa96YkffrdOv",
        "colab_type": "code",
        "outputId": "417cbd1b-32c9-45b7-ea6d-211a5f5fe0e7",
        "colab": {
          "base_uri": "https://localhost:8080/",
          "height": 289
        }
      },
      "source": [
        "#Construction du reseau de neurones avec 5 output\n",
        "model2 = tf.keras.Sequential()\n",
        "model2.add(hub_layer)\n",
        "model2.add(tf.keras.layers.Dense(10, activation='relu'))\n",
        "model2.add(tf.keras.layers.Dense(10, activation='relu'))\n",
        "model2.add(tf.keras.layers.Dense(5, activation='softmax'))\n",
        "\n",
        "model2.summary()"
      ],
      "execution_count": 0,
      "outputs": [
        {
          "output_type": "stream",
          "text": [
            "Model: \"sequential_1\"\n",
            "_________________________________________________________________\n",
            "Layer (type)                 Output Shape              Param #   \n",
            "=================================================================\n",
            "keras_layer_1 (KerasLayer)   (None, 20)                400020    \n",
            "_________________________________________________________________\n",
            "dense_2 (Dense)              (None, 10)                210       \n",
            "_________________________________________________________________\n",
            "dense_3 (Dense)              (None, 10)                110       \n",
            "_________________________________________________________________\n",
            "dense_4 (Dense)              (None, 5)                 55        \n",
            "=================================================================\n",
            "Total params: 400,395\n",
            "Trainable params: 400,395\n",
            "Non-trainable params: 0\n",
            "_________________________________________________________________\n"
          ],
          "name": "stdout"
        }
      ]
    },
    {
      "cell_type": "code",
      "metadata": {
        "id": "sCr5r95brfCp",
        "colab_type": "code",
        "colab": {}
      },
      "source": [
        "#Choix de l'algo de correction de l'erreur\n",
        "#Ici on choisi sparse_categorical_crossentropy comme loss puisque notre output sera constitué de plusieurs categories.\n",
        "model2.compile(optimizer='adam',loss ='sparse_categorical_crossentropy',metrics=['accuracy'])"
      ],
      "execution_count": 0,
      "outputs": []
    },
    {
      "cell_type": "code",
      "metadata": {
        "id": "ddD5Xmnmrhxe",
        "colab_type": "code",
        "colab": {}
      },
      "source": [
        "#On convertit les jeux de donnees en format tf.tensor pour que le format des donnees soit le plus adapte à notre RNN.\n",
        "TrainX2 = tf.convert_to_tensor(TrainX2, dtype=tf.string)\n",
        "TrainY2 = tf.convert_to_tensor(TrainY2, dtype=tf.int32)\n",
        "TestX2 = tf.convert_to_tensor(TestX2, dtype=tf.string)\n",
        "TestY2 = tf.convert_to_tensor(TestY2, dtype=tf.int32)"
      ],
      "execution_count": 0,
      "outputs": []
    },
    {
      "cell_type": "code",
      "metadata": {
        "id": "ynzlT70wrmZ7",
        "colab_type": "code",
        "outputId": "2a07e230-7776-4059-d61c-dad7b8eebffa",
        "colab": {
          "base_uri": "https://localhost:8080/",
          "height": 544
        }
      },
      "source": [
        "#Apprentissage du modele sur 15 époques\n",
        "history = model2.fit(TrainX2,TrainY2,epochs=15,verbose=1,steps_per_epoch=len(TrainX2))"
      ],
      "execution_count": 0,
      "outputs": [
        {
          "output_type": "stream",
          "text": [
            "Train on 6000 samples\n",
            "Epoch 1/15\n",
            "6000/6000 [==============================] - 32s 5ms/sample - loss: 1.0851 - accuracy: 0.5138\n",
            "Epoch 2/15\n",
            "6000/6000 [==============================] - 31s 5ms/sample - loss: 0.8741 - accuracy: 0.6130\n",
            "Epoch 3/15\n",
            "6000/6000 [==============================] - 31s 5ms/sample - loss: 0.7591 - accuracy: 0.6690\n",
            "Epoch 4/15\n",
            "6000/6000 [==============================] - 31s 5ms/sample - loss: 0.6638 - accuracy: 0.7162\n",
            "Epoch 5/15\n",
            "6000/6000 [==============================] - 31s 5ms/sample - loss: 0.5755 - accuracy: 0.7640\n",
            "Epoch 6/15\n",
            "6000/6000 [==============================] - 31s 5ms/sample - loss: 0.4888 - accuracy: 0.8112\n",
            "Epoch 7/15\n",
            "6000/6000 [==============================] - 31s 5ms/sample - loss: 0.4085 - accuracy: 0.8480\n",
            "Epoch 8/15\n",
            "6000/6000 [==============================] - 32s 5ms/sample - loss: 0.3368 - accuracy: 0.8733\n",
            "Epoch 9/15\n",
            "6000/6000 [==============================] - 32s 5ms/sample - loss: 0.2747 - accuracy: 0.9035\n",
            "Epoch 10/15\n",
            "6000/6000 [==============================] - 31s 5ms/sample - loss: 0.2240 - accuracy: 0.9203\n",
            "Epoch 11/15\n",
            "6000/6000 [==============================] - 31s 5ms/sample - loss: 0.1818 - accuracy: 0.9368\n",
            "Epoch 12/15\n",
            "6000/6000 [==============================] - 31s 5ms/sample - loss: 0.1442 - accuracy: 0.9522\n",
            "Epoch 13/15\n",
            "6000/6000 [==============================] - 32s 5ms/sample - loss: 0.1167 - accuracy: 0.9592\n",
            "Epoch 14/15\n",
            "6000/6000 [==============================] - 32s 5ms/sample - loss: 0.0885 - accuracy: 0.9683\n",
            "Epoch 15/15\n",
            "6000/6000 [==============================] - 31s 5ms/sample - loss: 0.0713 - accuracy: 0.9763\n"
          ],
          "name": "stdout"
        }
      ]
    },
    {
      "cell_type": "code",
      "metadata": {
        "id": "DqnfRUtAr6hF",
        "colab_type": "code",
        "outputId": "c95cbeb5-2cbe-4c42-a1a6-9c8b814b2841",
        "colab": {
          "base_uri": "https://localhost:8080/",
          "height": 68
        }
      },
      "source": [
        "#Evaluation du modele sur le jeu de test\n",
        "test_loss2, test_acc2 = model2.evaluate(TestX2,  TestY2, verbose=2)\n",
        "\n",
        "print('\\nTest accuracy:', test_acc2)"
      ],
      "execution_count": 0,
      "outputs": [
        {
          "output_type": "stream",
          "text": [
            "4000/1 - 0s - loss: 2.8741 - accuracy: 0.5565\n",
            "\n",
            "Test accuracy: 0.5565\n"
          ],
          "name": "stdout"
        }
      ]
    },
    {
      "cell_type": "code",
      "metadata": {
        "id": "6cCurDbTsBe0",
        "colab_type": "code",
        "outputId": "a55b1e5b-80b6-40ed-dad2-81b71ff5cb2c",
        "colab": {
          "base_uri": "https://localhost:8080/",
          "height": 34
        }
      },
      "source": [
        "import numpy as np\n",
        "\n",
        "prediction = model2.predict(TestX2)\n",
        "new_prediction = np.zeros(len(prediction))\n",
        "for i in range(len(prediction)):\n",
        "   new_prediction[i] = np.where(prediction[i]==max(prediction[i]))[0][0]+1\n",
        "mean_squared_error(TestY2,new_prediction)"
      ],
      "execution_count": 0,
      "outputs": [
        {
          "output_type": "execute_result",
          "data": {
            "text/plain": [
              "1.9685"
            ]
          },
          "metadata": {
            "tags": []
          },
          "execution_count": 74
        }
      ]
    },
    {
      "cell_type": "code",
      "metadata": {
        "id": "vtr8E6s9OoAC",
        "colab_type": "code",
        "colab": {}
      },
      "source": [
        "#Pas forcement utile pour le projet, c'etait pour essayer plusieurs modeles \n",
        "\n",
        "# def create_model(neural_hidden_layer):\n",
        "#   model2 = tf.keras.Sequential()\n",
        "#   model2.add(hub_layer)\n",
        "#   model2.add(tf.keras.layers.Dense(neural_hidden_layer, activation='relu'))\n",
        "#   model2.add(tf.keras.layers.Dense(5, activation='softmax'))\n",
        "#   return model2\n",
        "\n",
        "\n",
        "\n",
        "# import pandas as pd\n",
        "# result = []\n",
        "# for neural in range(10,15):\n",
        "#   monModel = create_model(neural)\n",
        "#   monModel.compile(optimizer='adam',loss ='sparse_categorical_crossentropy',metrics=['accuracy'])\n",
        "#   for epoch in range(10,15):\n",
        "#     monModel.fit(TrainX2,TrainY2,epochs=epoch,verbose=2)\n",
        "#     test_loss2, test_acc2 = model2.evaluate(TestX2,  TestY2, verbose=2)\n",
        "#     result.append({'neural':neural,'epoch':epoch,'accuracy':test_acc2,'loss':test_loss2})\n",
        "# result = pd.DataFrame(result)\n",
        "\n",
        "# result\n",
        "\n",
        "# result.loc[result['accuracy']==result.accuracy.max()]"
      ],
      "execution_count": 0,
      "outputs": []
    },
    {
      "cell_type": "markdown",
      "metadata": {
        "id": "p6LuXYxBD71D",
        "colab_type": "text"
      },
      "source": [
        "## TF IDF"
      ]
    },
    {
      "cell_type": "code",
      "metadata": {
        "id": "GONLzwfQD-DT",
        "colab_type": "code",
        "colab": {}
      },
      "source": [
        "from sklearn.feature_extraction.text import TfidfVectorizer\n",
        "vectorizer = TfidfVectorizer()"
      ],
      "execution_count": 0,
      "outputs": []
    },
    {
      "cell_type": "code",
      "metadata": {
        "id": "eJmiOe2KEHcY",
        "colab_type": "code",
        "colab": {}
      },
      "source": [
        "#another technique to transfort the texts in vector using tf-idf\n",
        "X_tfidf = vectorizer.fit_transform(X)\n",
        "Y_tfidf = Y\n",
        "X_tfidf.shape"
      ],
      "execution_count": 0,
      "outputs": []
    },
    {
      "cell_type": "code",
      "metadata": {
        "id": "CxWRGhgoEblp",
        "colab_type": "code",
        "colab": {}
      },
      "source": [
        "xTrain4, xTest4, yTrain4, yTest4 = train_test_split(X, Y, test_size = 0.2, random_state = 0)"
      ],
      "execution_count": 0,
      "outputs": []
    },
    {
      "cell_type": "code",
      "metadata": {
        "id": "SmXXVM4nFpKL",
        "colab_type": "code",
        "colab": {}
      },
      "source": [
        "#another technique to transfort the texts in vector using tf-idf\n",
        "xTrain4 = vectorizer.fit_transform(xTrain4).todense()\n",
        "xTest4 = vectorizer.transform(xTest4).todense()\n"
      ],
      "execution_count": 0,
      "outputs": []
    },
    {
      "cell_type": "code",
      "metadata": {
        "id": "9CeTKV92EVlN",
        "colab_type": "code",
        "colab": {}
      },
      "source": [
        "xTrain4.shape , yTrain4.shape , xTest4.shape , yTest4.shape"
      ],
      "execution_count": 0,
      "outputs": []
    },
    {
      "cell_type": "code",
      "metadata": {
        "id": "DeVduZhIFKyQ",
        "colab_type": "code",
        "colab": {}
      },
      "source": [
        "from keras.layers.core import Dense, Dropout, Activation"
      ],
      "execution_count": 0,
      "outputs": []
    },
    {
      "cell_type": "code",
      "metadata": {
        "id": "4ljwukI2E3Zf",
        "colab_type": "code",
        "colab": {}
      },
      "source": [
        "#Construction du reseau de neurones avec 5 output\n",
        "model2 = tf.keras.Sequential()\n",
        "model2.add(tf.keras.layers.Dense(12, input_dim= 19003, activation='relu'))\n",
        "model2.add(tf.keras.layers.Dense(12, activation='relu'))\n",
        "model2.add(tf.keras.layers.Dense(1, activation='softmax'))\n",
        "model2.summary()"
      ],
      "execution_count": 0,
      "outputs": []
    },
    {
      "cell_type": "code",
      "metadata": {
        "id": "WnkU0RzY9tg-",
        "colab_type": "code",
        "colab": {}
      },
      "source": [
        "model2.compile(optimizer='adam',loss ='mse',metrics=['mse','accuracy'])"
      ],
      "execution_count": 0,
      "outputs": []
    },
    {
      "cell_type": "code",
      "metadata": {
        "id": "pHffkdjE94bM",
        "colab_type": "code",
        "colab": {}
      },
      "source": [
        "xTrain4 = tf.convert_to_tensor(xTrain4, dtype=tf.float32)\n",
        "#yTrain4 = tf.convert_to_tensor(yTrain4, dtype=tf.int32)\n",
        "xTest4 = tf.convert_to_tensor(xTest4, dtype=tf.float32)\n",
        "#yTest4 = tf.convert_to_tensor(yTest4, dtype=tf.int32)"
      ],
      "execution_count": 0,
      "outputs": []
    },
    {
      "cell_type": "code",
      "metadata": {
        "id": "lMBKli7v56gM",
        "colab_type": "code",
        "colab": {}
      },
      "source": [
        "history = model2.fit(xTrain4,yTrain4,epochs=15,verbose=1,steps_per_epoch=int(xTrain4.shape[0]))"
      ],
      "execution_count": 0,
      "outputs": []
    },
    {
      "cell_type": "code",
      "metadata": {
        "id": "xiLzbuYZ_FFr",
        "colab_type": "code",
        "colab": {}
      },
      "source": [
        "#Evaluation du modele sur le jeu de test\n",
        "test_loss4, test_mse4, test_acc4 = model2.evaluate(xTest4,  yTest4,steps=int(xTest4.shape[0]))\n",
        "\n",
        "print('\\nTest accuracy:', test_acc4)\n",
        "print('\\nTest accuracy:', test_mse4)"
      ],
      "execution_count": 0,
      "outputs": []
    },
    {
      "cell_type": "code",
      "metadata": {
        "id": "D8KVFHCh-vOX",
        "colab_type": "code",
        "colab": {}
      },
      "source": [
        ""
      ],
      "execution_count": 0,
      "outputs": []
    },
    {
      "cell_type": "code",
      "metadata": {
        "id": "NH_Ve0Ll47aP",
        "colab_type": "code",
        "colab": {}
      },
      "source": [
        "pip install --upgrade tensorflow==1.14"
      ],
      "execution_count": 0,
      "outputs": []
    },
    {
      "cell_type": "markdown",
      "metadata": {
        "id": "402ndUw9cl-0",
        "colab_type": "text"
      },
      "source": [
        ""
      ]
    }
  ]
}